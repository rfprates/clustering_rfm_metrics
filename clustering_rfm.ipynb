{
 "cells": [
  {
   "cell_type": "markdown",
   "metadata": {},
   "source": [
    "# Modelo de análise das métricas RFM"
   ]
  },
  {
   "cell_type": "markdown",
   "metadata": {},
   "source": [
    "## Introdução"
   ]
  },
  {
   "cell_type": "markdown",
   "metadata": {},
   "source": [
    "Uma empresa de e-commerce está buscando entender melhor o comportamento de seus clientes para personalizar as suas campanhas de marketing. Para isso, ela disponibilizou uma base de dados em csv contendo informações a sobre os clientes, produtos e transações realizadas entre os anos de 2010 e 2011."
   ]
  },
  {
   "cell_type": "markdown",
   "metadata": {},
   "source": [
    "## Objetivo do projeto"
   ]
  },
  {
   "cell_type": "markdown",
   "metadata": {},
   "source": [
    "O presente projeto tem como objetivo que, a partir da base de dados disponibilizada, seja desenvolvido um modelo de machine learning de Clusterização que permita agrupar os clientes em grupos com base em seu comportamento de compra, identificando os seguintes padrões e características:\n",
    "\n",
    "- Clientes que compram os mesmos produtos;\n",
    "- Clientes que possuem a mesma frequência de compras;\n",
    "- Clientes que gastam mais dinheiro em suas compras.\n",
    "\n",
    "A partir disso, ainda é necessário explicar de que forma esta análise pode ser útil para a empresa para a segmentação de seus clientes e personalização das campanhas de marketing, sugerindo ações possíveis para cada um deles."
   ]
  },
  {
   "cell_type": "markdown",
   "metadata": {},
   "source": [
    "## Sobre os dados"
   ]
  },
  {
   "cell_type": "markdown",
   "metadata": {},
   "source": [
    "Os dados fornecidos possuem informações de transações de compras da empresa realizada em 38 países diferentes, com mais de 4.000 clientes únicos e mais de 540.000 transações.\n",
    "\n",
    "Segue abaixo um descritivo do significado das informações presentes em cada coluna do dataset.\n",
    "\n",
    "- InvoiceNo: Identificação da transação;\n",
    "- StockCode: Código de estoque do produto;\n",
    "- Description: Descrição do produto;\n",
    "- Quantity: Quantidade de produtos por transação;\n",
    "- InvoiceDate: Data da transação;\n",
    "- UnitPrice: Preço unitário do produto;\n",
    "- CustomerID: Identificação do cliente;\n",
    "- Country: País de origem da transação."
   ]
  },
  {
   "cell_type": "markdown",
   "metadata": {},
   "source": [
    "## Bibliotecas utilizadas"
   ]
  },
  {
   "cell_type": "markdown",
   "metadata": {},
   "source": [
    "Para o desenvolvimento deste projeto foram utilizadas as seguintes bibliotecas do Python,"
   ]
  },
  {
   "cell_type": "code",
   "execution_count": null,
   "metadata": {},
   "outputs": [],
   "source": []
  }
 ],
 "metadata": {
  "kernelspec": {
   "display_name": "base",
   "language": "python",
   "name": "python3"
  },
  "language_info": {
   "name": "python",
   "version": "3.11.5"
  }
 },
 "nbformat": 4,
 "nbformat_minor": 2
}
